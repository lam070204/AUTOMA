{
 "cells": [
  {
   "cell_type": "markdown",
   "metadata": {},
   "source": [
    "First, create the model. This must match the model used in the interactive training notebook."
   ]
  },
  {
   "cell_type": "code",
   "execution_count": 1,
   "metadata": {},
   "outputs": [],
   "source": [
    "import cv2\n",
    "import torch\n",
    "import torchvision\n",
    "\n",
    "CATEGORIES = ['apex']\n",
    "\n",
    "device = torch.device('cuda')\n",
    "model = torchvision.models.resnet18(pretrained=False)\n",
    "model.fc = torch.nn.Linear(512, 2 * len(CATEGORIES))\n",
    "model = model.cuda().eval().half()"
   ]
  },
  {
   "cell_type": "markdown",
   "metadata": {},
   "source": [
    "Next, load the saved model.  Enter the model path you used to save."
   ]
  },
  {
   "cell_type": "markdown",
   "metadata": {},
   "source": [
    "Convert and optimize the model using ``torch2trt`` for faster inference with TensorRT.  Please see the [torch2trt](https://github.com/NVIDIA-AI-IOT/torch2trt) readme for more details.\n",
    "\n",
    "> This optimization process can take a couple minutes to complete. "
   ]
  },
  {
   "cell_type": "markdown",
   "metadata": {},
   "source": [
    "Save the optimized model using the cell below"
   ]
  },
  {
   "cell_type": "markdown",
   "metadata": {},
   "source": [
    "Load the optimized model by executing the cell below"
   ]
  },
  {
   "cell_type": "markdown",
   "metadata": {},
   "source": [
    "Create the racecar class"
   ]
  },
  {
   "cell_type": "markdown",
   "metadata": {},
   "source": [
    "Create the camera class."
   ]
  },
  {
   "cell_type": "markdown",
   "metadata": {},
   "source": [
    "Finally, execute the cell below to make the racecar move forward, steering the racecar based on the x value of the apex.\n",
    "\n",
    "Here are some tips,\n",
    "\n",
    "* If the car wobbles left and right,  lower the steering gain\n",
    "* If the car misses turns,  raise the steering gain\n",
    "* If the car tends right, make the steering bias more negative (in small increments like -0.05)\n",
    "* If the car tends left, make the steering bias more postive (in small increments +0.05)"
   ]
  },
  {
   "cell_type": "markdown",
   "metadata": {},
   "source": [
    "Kết hợp giữa tránh vật cản và theo dõi lane"
   ]
  },
  {
   "cell_type": "code",
   "execution_count": 2,
   "metadata": {},
   "outputs": [
    {
     "data": {
      "text/plain": [
       "<All keys matched successfully>"
      ]
     },
     "execution_count": 2,
     "metadata": {},
     "output_type": "execute_result"
    }
   ],
   "source": [
    "import torch\n",
    "from torch2trt import TRTModule\n",
    "\n",
    "# Load mô hình nhận diện vật cản\n",
    "model_obstacle = TRTModule()\n",
    "model_obstacle.load_state_dict(torch.load('best_model_trt.pth'))\n",
    "\n",
    "# Load mô hình chạy theo lane\n",
    "model_steering = TRTModule()\n",
    "model_steering.load_state_dict(torch.load('road_following_model_trt_4.pth'))\n",
    "\n"
   ]
  },
  {
   "cell_type": "code",
   "execution_count": 3,
   "metadata": {},
   "outputs": [],
   "source": [
    "import cv2\n",
    "from torchvision.models import resnet18\n",
    "from torch2trt import TRTModule\n",
    "from jetracer.nvidia_racecar import NvidiaRacecar\n",
    "from jetcam.csi_camera import CSICamera\n",
    "from utils import preprocess\n",
    "import torch.nn.functional as F\n",
    "import numpy as np\n",
    "import time\n",
    "from IPython.display import display, clear_output"
   ]
  },
  {
   "cell_type": "code",
   "execution_count": 4,
   "metadata": {},
   "outputs": [],
   "source": [
    "from jetracer.nvidia_racecar import NvidiaRacecar\n",
    "car = NvidiaRacecar()\n",
    "\n",
    "from jetcam.csi_camera import CSICamera\n",
    "camera = CSICamera(width=224, height=224, capture_fps=65)"
   ]
  },
  {
   "cell_type": "code",
   "execution_count": null,
   "metadata": {},
   "outputs": [],
   "source": [
    "# Tham số điều khiển\n",
    "STEERING_GAIN = 0.6\n",
    "STEERING_BIAS = 0\n",
    "THROTTLE = 0.2\n",
    "\n",
    "# Biến trạng thái\n",
    "prob_blocked = 0\n",
    "threshold = 0.5\n",
    "\n",
    "# Dừng xe ban đầu\n",
    "car.throttle = 0.0\n",
    "car.steering = 0.0\n",
    "time.sleep(1)\n",
    "\n",
    "while True:\n",
    "    image = camera.read()\n",
    "    image_proc = preprocess(image).half()\n",
    "\n",
    "    # Nhận diện vật cản\n",
    "    output_obstacle = model_obstacle(image_proc)\n",
    "    output_lane = model_steering(image_proc).detach().cpu().numpy().flatten()\n",
    "    y = F.softmax(output_obstacle, dim=1)\n",
    "    prob_blocked = float(y.flatten()[0])  # Xác suất bị chặn\n",
    "\n",
    "    if prob_blocked < threshold:\n",
    "        # Nếu không có vật cản, chạy thẳng theo lane\n",
    "        x = float(output_lane[0])\n",
    "        car.steering = x * STEERING_GAIN + STEERING_BIAS\n",
    "        car.throttle = THROTTLE  # Tiếp tục chạy\n",
    "         # In thông tin góc lái\n",
    "    else:\n",
    "        # Nếu có vật cản, dừng lại\n",
    "        car.steering = 0.0  # Làm thẳng lái\n",
    "        car.throttle = 0.0  # Dừng xe"
   ]
  },
  {
   "cell_type": "code",
   "execution_count": 9,
   "metadata": {},
   "outputs": [
    {
     "name": "stdout",
     "output_type": "stream",
     "text": [
      "Dừng nhận dạng.\n"
     ]
    }
   ],
   "source": [
    "import torch.nn.functional as F\n",
    "import time\n",
    "import numpy as np\n",
    "from IPython.display import clear_output\n",
    "\n",
    "# Danh sách class đúng thứ tự theo thư mục\n",
    "classes = [\"0_blocked\", \"1_free_normal\", \"2_free_boost\"]\n",
    "\n",
    "try:\n",
    "    while True:\n",
    "        # Đọc frame từ camera\n",
    "        image = camera.read()\n",
    "        image_proc = preprocess(image).half()\n",
    "\n",
    "        # Dự đoán vật cản và loại đường\n",
    "        output_obstacle = model_obstacle(image_proc)\n",
    "\n",
    "        # Xác suất từng class\n",
    "        probs = F.softmax(output_obstacle, dim=1).detach().cpu().numpy().flatten()\n",
    "        prob_blocked = probs[classes.index(\"0_blocked\")]\n",
    "        prob_normal = probs[classes.index(\"1_free_normal\")]\n",
    "        prob_boost = probs[classes.index(\"2_free_boost\")]\n",
    "\n",
    "        # Clear output cũ\n",
    "        clear_output(wait=True)\n",
    "\n",
    "        # In ra xác suất\n",
    "        print(f\"🚫 BLOCKED: {prob_blocked:.2f} | ✅ FREE_NORMAL: {prob_normal:.2f} | ⚡ BOOST: {prob_boost:.2f}\")\n",
    "\n",
    "        # In ra class có xác suất cao nhất\n",
    "        idx = np.argmax(probs)\n",
    "        print(f\"➡️  Dự đoán: {classes[idx]} ({probs[idx]*100:.1f}%)\")\n",
    "\n",
    "#         time.sleep(0.1)\n",
    "\n",
    "except KeyboardInterrupt:\n",
    "    clear_output(wait=True)\n",
    "    print(\"Dừng nhận dạng.\")\n"
   ]
  },
  {
   "cell_type": "code",
   "execution_count": null,
   "metadata": {},
   "outputs": [],
   "source": []
  }
 ],
 "metadata": {
  "kernelspec": {
   "display_name": "Python 3",
   "language": "python",
   "name": "python3"
  },
  "language_info": {
   "codemirror_mode": {
    "name": "ipython",
    "version": 3
   },
   "file_extension": ".py",
   "mimetype": "text/x-python",
   "name": "python",
   "nbconvert_exporter": "python",
   "pygments_lexer": "ipython3",
   "version": "3.6.9"
  }
 },
 "nbformat": 4,
 "nbformat_minor": 4
}
