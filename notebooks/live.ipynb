{
 "cells": [
  {
   "cell_type": "code",
   "execution_count": 8,
   "id": "eb72bcb4",
   "metadata": {},
   "outputs": [
    {
     "ename": "NameError",
     "evalue": "name '_C' is not defined",
     "output_type": "error",
     "traceback": [
      "\u001b[0;31m---------------------------------------------------------------------------\u001b[0m",
      "\u001b[0;31mNameError\u001b[0m                                 Traceback (most recent call last)",
      "\u001b[0;32m<ipython-input-8-9b6dcf0a9ed4>\u001b[0m in \u001b[0;36m<module>\u001b[0;34m\u001b[0m\n\u001b[0;32m----> 1\u001b[0;31m \u001b[0;32mimport\u001b[0m \u001b[0mtorch\u001b[0m\u001b[0;34m\u001b[0m\u001b[0;34m\u001b[0m\u001b[0m\n\u001b[0m\u001b[1;32m      2\u001b[0m \u001b[0;32mimport\u001b[0m \u001b[0mtorchvision\u001b[0m\u001b[0;34m\u001b[0m\u001b[0;34m\u001b[0m\u001b[0m\n",
      "\u001b[0;32m/usr/local/lib/python3.6/dist-packages/torch/__init__.py\u001b[0m in \u001b[0;36m<module>\u001b[0;34m\u001b[0m\n\u001b[1;32m    194\u001b[0m     \u001b[0;32mimport\u001b[0m \u001b[0mtorch\u001b[0m\u001b[0;34m.\u001b[0m\u001b[0m_C\u001b[0m \u001b[0;32mas\u001b[0m \u001b[0m_C\u001b[0m\u001b[0;34m\u001b[0m\u001b[0;34m\u001b[0m\u001b[0m\n\u001b[1;32m    195\u001b[0m \u001b[0;34m\u001b[0m\u001b[0m\n\u001b[0;32m--> 196\u001b[0;31m __all__ += [name for name in dir(_C)\n\u001b[0m\u001b[1;32m    197\u001b[0m             \u001b[0;32mif\u001b[0m \u001b[0mname\u001b[0m\u001b[0;34m[\u001b[0m\u001b[0;36m0\u001b[0m\u001b[0;34m]\u001b[0m \u001b[0;34m!=\u001b[0m \u001b[0;34m'_'\u001b[0m \u001b[0;32mand\u001b[0m\u001b[0;34m\u001b[0m\u001b[0;34m\u001b[0m\u001b[0m\n\u001b[1;32m    198\u001b[0m             not name.endswith('Base')]\n",
      "\u001b[0;31mNameError\u001b[0m: name '_C' is not defined"
     ]
    }
   ],
   "source": [
    "def live_combined(state_widget, model_steering, model_obstacle, model_sign, camera, prediction_widget):\n",
    "    global threshold_blocked, threshold_speedup\n",
    "    while state_widget.value == 'live':\n",
    "        image = camera.value\n",
    "        img_proc = preprocess(image)\n",
    "\n",
    "        # Dự đoán vật cản (ví dụ model output logits 2 lớp: blocked, free)\n",
    "        output_obstacle = model_obstacle(img_proc)\n",
    "        prob = torch.softmax(output_obstacle, dim=1)\n",
    "        prob_blocked = prob[0, 0].item()  # giả sử class 0 = blocked\n",
    "\n",
    "        # Dự đoán góc lái\n",
    "        output_steer = model_steering(img_proc)\n",
    "        steer = output_steer.item()  # giả sử output 1 giá trị steering\n",
    "\n",
    "        # Dự đoán biển báo\n",
    "        output_sign = model_sign(img_proc)\n",
    "        pred_sign = torch.argmax(output_sign, 1).item()\n",
    "        sign_label = model_sign_categories[pred_sign]  # vd ['none', 'min_30']\n",
    "\n",
    "        # Logic điều khiển\n",
    "        if prob_blocked < threshold_blocked:\n",
    "            # Không có vật cản, xử lý biển báo\n",
    "            if sign_label == 'min_30':\n",
    "                throttle = throttle_fast\n",
    "            else:\n",
    "                throttle = throttle_normal\n",
    "            steering = steer * STEERING_GAIN + STEERING_BIAS\n",
    "        else:\n",
    "            throttle = 0.0\n",
    "            steering = 0.0\n",
    "\n",
    "        # Cập nhật xe\n",
    "        car.throttle = throttle\n",
    "        car.steering = steering\n",
    "\n",
    "        # Hiển thị ảnh dự đoán có vòng tròn, biển báo, thông tin\n",
    "        h, w, _ = image.shape\n",
    "        cx = int(w * 0.5)\n",
    "        cy = int(h * 0.8)\n",
    "        pred_img = image.copy()\n",
    "        cv2.putText(pred_img, f\"Blocked: {prob_blocked:.2f}\", (10, 30), cv2.FONT_HERSHEY_SIMPLEX, 1, (0,0,255), 2)\n",
    "        cv2.putText(pred_img, f\"Steer: {steering:.2f}\", (10, 60), cv2.FONT_HERSHEY_SIMPLEX, 1, (255,255,0), 2)\n",
    "        cv2.putText(pred_img, f\"Sign: {sign_label}\", (10, 90), cv2.FONT_HERSHEY_SIMPLEX, 1, (0,255,0), 2)\n",
    "        prediction_widget.value = bgr8_to_jpeg(pred_img)\n"
   ]
  },
  {
   "cell_type": "code",
   "execution_count": null,
   "id": "4c0bb14f",
   "metadata": {},
   "outputs": [],
   "source": [
    "threshold_blocked = 0.5\n",
    "throttle_normal = 0.18\n",
    "throttle_fast = 0.3\n",
    "STEERING_GAIN = 0.9\n",
    "STEERING_BIAS = 0.0\n",
    "\n",
    "model_sign_categories = ['none', 'min_30']  # ví dụ\n"
   ]
  },
  {
   "cell_type": "code",
   "execution_count": null,
   "id": "2ba73f6a",
   "metadata": {},
   "outputs": [],
   "source": [
    "state_widget = ipywidgets.ToggleButtons(options=['stop', 'live'], description='state', value='stop')\n",
    "prediction_widget = ipywidgets.Image(format='jpeg', width=camera.width, height=camera.height)\n",
    "\n",
    "def start_live(change):\n",
    "    if change['new'] == 'live':\n",
    "        threading.Thread(target=live_combined, args=(state_widget, model_steering, model_obstacle, model_sign, camera, prediction_widget)).start()\n",
    "\n",
    "state_widget.observe(start_live, names='value')\n",
    "\n",
    "live_execution_widget = ipywidgets.VBox([prediction_widget, state_widget])\n",
    "display(live_execution_widget)\n"
   ]
  },
  {
   "cell_type": "code",
   "execution_count": null,
   "id": "0a50a131",
   "metadata": {},
   "outputs": [],
   "source": [
    "def preprocess(image):\n",
    "    transform = transforms.Compose([\n",
    "        transforms.ToPILImage(),\n",
    "        transforms.Resize((224, 224)),\n",
    "        transforms.ToTensor(),\n",
    "        transforms.Normalize([0.485, 0.456, 0.406], [0.229, 0.224, 0.225])\n",
    "    ])\n",
    "    return transform(image).unsqueeze(0).to(device)\n"
   ]
  },
  {
   "cell_type": "code",
   "execution_count": null,
   "id": "621ea25f",
   "metadata": {},
   "outputs": [],
   "source": []
  },
  {
   "cell_type": "code",
   "execution_count": null,
   "id": "d1fdc58e",
   "metadata": {},
   "outputs": [],
   "source": []
  },
  {
   "cell_type": "code",
   "execution_count": null,
   "id": "b2176a50",
   "metadata": {},
   "outputs": [],
   "source": []
  },
  {
   "cell_type": "code",
   "execution_count": null,
   "id": "c5f18939",
   "metadata": {},
   "outputs": [],
   "source": []
  }
 ],
 "metadata": {
  "kernelspec": {
   "display_name": "Python 3",
   "language": "python",
   "name": "python3"
  },
  "language_info": {
   "codemirror_mode": {
    "name": "ipython",
    "version": 3
   },
   "file_extension": ".py",
   "mimetype": "text/x-python",
   "name": "python",
   "nbconvert_exporter": "python",
   "pygments_lexer": "ipython3",
   "version": "3.6.9"
  }
 },
 "nbformat": 4,
 "nbformat_minor": 5
}
