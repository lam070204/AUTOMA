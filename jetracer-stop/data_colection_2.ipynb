{
 "cells": [
  {
   "cell_type": "code",
   "execution_count": 3,
   "id": "f46f9cef",
   "metadata": {},
   "outputs": [
    {
     "data": {
      "application/vnd.jupyter.widget-view+json": {
       "model_id": "c885d0d82cc746b4b8db19dd5e4627cd",
       "version_major": 2,
       "version_minor": 0
      },
      "text/plain": [
       "HBox(children=(IntText(value=0, description='blocked', layout=Layout(height='64px', width='150px')), Button(bu…"
      ]
     },
     "metadata": {},
     "output_type": "display_data"
    },
    {
     "data": {
      "application/vnd.jupyter.widget-view+json": {
       "model_id": "14da6b3814ae4a8987d6fa250f104505",
       "version_major": 2,
       "version_minor": 0
      },
      "text/plain": [
       "HBox(children=(IntText(value=0, description='normal', layout=Layout(height='64px', width='150px')), Button(but…"
      ]
     },
     "metadata": {},
     "output_type": "display_data"
    },
    {
     "data": {
      "application/vnd.jupyter.widget-view+json": {
       "model_id": "d377e41a6bea42a388d6b413cb287456",
       "version_major": 2,
       "version_minor": 0
      },
      "text/plain": [
       "HBox(children=(IntText(value=0, description='boost', layout=Layout(height='64px', width='150px')), Button(butt…"
      ]
     },
     "metadata": {},
     "output_type": "display_data"
    },
    {
     "data": {
      "application/vnd.jupyter.widget-view+json": {
       "model_id": "1f27eae054de4ff0b10a0758abd6607d",
       "version_major": 2,
       "version_minor": 0
      },
      "text/plain": [
       "Image(value=b'\\xff\\xd8\\xff\\xe0\\x00\\x10JFIF\\x00\\x01\\x01\\x00\\x00\\x01\\x00\\x01\\x00\\x00\\xff\\xdb\\x00C\\x00\\x02\\x01\\x0…"
      ]
     },
     "metadata": {},
     "output_type": "display_data"
    }
   ],
   "source": [
    "import ipywidgets as widgets\n",
    "from IPython.display import display\n",
    "import cv2\n",
    "import os\n",
    "from uuid import uuid1\n",
    "import traitlets\n",
    "from jetcam.csi_camera import CSICamera\n",
    "from jetcam.utils import bgr8_to_jpeg\n",
    "\n",
    "# Khởi tạo các thư mục\n",
    "data_root = 'datasett'\n",
    "blocked_dir = os.path.join(data_root, 'blocked')\n",
    "free_normal_dir = os.path.join(data_root, 'free_normal')\n",
    "free_boost_dir = os.path.join(data_root, 'free_boost')\n",
    "\n",
    "for directory in [blocked_dir, free_normal_dir, free_boost_dir]:\n",
    "    os.makedirs(directory, exist_ok=True)\n",
    "\n",
    "# Các nút và bộ đếm\n",
    "button_layout = widgets.Layout(width='150px', height='64px')\n",
    "blocked_button = widgets.Button(description='add blocked', button_style='danger', layout=button_layout)\n",
    "free_normal_button = widgets.Button(description='add normal', button_style='info', layout=button_layout)\n",
    "free_boost_button = widgets.Button(description='add boost', button_style='warning', layout=button_layout)\n",
    "\n",
    "blocked_count = widgets.IntText(value=len(os.listdir(blocked_dir)), layout=button_layout, description='blocked')\n",
    "free_normal_count = widgets.IntText(value=len(os.listdir(free_normal_dir)), layout=button_layout, description='normal')\n",
    "free_boost_count = widgets.IntText(value=len(os.listdir(free_boost_dir)), layout=button_layout, description='boost')\n",
    "\n",
    "# # Khởi tạo camera CSI\n",
    "# camera = CSICamera(width=224, height=224, capture_fps=65)\n",
    "# camera.running = True\n",
    "\n",
    "image_widget = widgets.Image(format='jpeg', width=224, height=224)\n",
    "camera_link = traitlets.dlink((camera, 'value'), (image_widget, 'value'), transform=bgr8_to_jpeg)\n",
    "\n",
    "# Hàm lưu ảnh\n",
    "def save_snapshot(directory):\n",
    "    image_path = os.path.join(directory, str(uuid1()) + '.jpg')\n",
    "    cv2.imwrite(image_path, camera.value.copy())\n",
    "\n",
    "def save_blocked():\n",
    "    save_snapshot(blocked_dir)\n",
    "    blocked_count.value = len(os.listdir(blocked_dir))\n",
    "\n",
    "def save_free_normal():\n",
    "    save_snapshot(free_normal_dir)\n",
    "    free_normal_count.value = len(os.listdir(free_normal_dir))\n",
    "\n",
    "def save_free_boost():\n",
    "    save_snapshot(free_boost_dir)\n",
    "    free_boost_count.value = len(os.listdir(free_boost_dir))\n",
    "\n",
    "# Gán hành động cho nút\n",
    "blocked_button.on_click(lambda x: save_blocked())\n",
    "free_normal_button.on_click(lambda x: save_free_normal())\n",
    "free_boost_button.on_click(lambda x: save_free_boost())\n",
    "\n",
    "# Hiển thị giao diện\n",
    "display(widgets.HBox([blocked_count, blocked_button]))\n",
    "display(widgets.HBox([free_normal_count, free_normal_button]))\n",
    "display(widgets.HBox([free_boost_count, free_boost_button]))\n",
    "display(image_widget)\n"
   ]
  },
  {
   "cell_type": "code",
   "execution_count": null,
   "id": "54b1da7b",
   "metadata": {},
   "outputs": [],
   "source": []
  }
 ],
 "metadata": {
  "kernelspec": {
   "display_name": "Python 3",
   "language": "python",
   "name": "python3"
  },
  "language_info": {
   "codemirror_mode": {
    "name": "ipython",
    "version": 3
   },
   "file_extension": ".py",
   "mimetype": "text/x-python",
   "name": "python",
   "nbconvert_exporter": "python",
   "pygments_lexer": "ipython3",
   "version": "3.6.9"
  }
 },
 "nbformat": 4,
 "nbformat_minor": 5
}
