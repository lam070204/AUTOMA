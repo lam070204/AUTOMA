{
 "cells": [
  {
   "cell_type": "code",
   "execution_count": 1,
   "id": "dc9aa5f0",
   "metadata": {},
   "outputs": [],
   "source": [
    "import cv2\n",
    "import torch\n",
    "import torch.optim as optim\n",
    "import torch.nn.functional as F\n",
    "import torchvision\n",
    "import torchvision.datasets as datasets\n",
    "import torchvision.models as models\n",
    "import torchvision.transforms as transforms"
   ]
  },
  {
   "cell_type": "code",
   "execution_count": 5,
   "id": "3b340d18",
   "metadata": {},
   "outputs": [
    {
     "name": "stdout",
     "output_type": "stream",
     "text": [
      "Đã đổi: blocked -> 0_blocked\n",
      "Đã đổi: free_normal -> 1_free_normal\n",
      "Đã đổi: free_boost -> 2_free_boost\n"
     ]
    }
   ],
   "source": [
    "import os\n",
    "\n",
    "base_dir = \"datasettt\"   # thay bằng đường dẫn folder dataset của bạn\n",
    "rename_map = {\n",
    "    \"blocked\": \"0_blocked\",\n",
    "    \"free_normal\": \"1_free_normal\",\n",
    "    \"free_boost\": \"2_free_boost\"\n",
    "}\n",
    "\n",
    "for old_name, new_name in rename_map.items():\n",
    "    old_path = os.path.join(base_dir, old_name)\n",
    "    new_path = os.path.join(base_dir, new_name)\n",
    "    if os.path.exists(old_path):\n",
    "        os.rename(old_path, new_path)\n",
    "        print(f\"Đã đổi: {old_name} -> {new_name}\")\n"
   ]
  },
  {
   "cell_type": "code",
   "execution_count": 6,
   "id": "b22454a4",
   "metadata": {},
   "outputs": [
    {
     "name": "stdout",
     "output_type": "stream",
     "text": [
      "Classes: ['0_blocked', '1_free_normal', '2_free_boost']\n"
     ]
    }
   ],
   "source": [
    "transform = transforms.Compose([\n",
    "    transforms.ColorJitter(0.1, 0.1, 0.1, 0.1),\n",
    "    transforms.Resize((224, 224)),\n",
    "    transforms.ToTensor(),\n",
    "    transforms.Normalize([0.485, 0.456, 0.406],\n",
    "                         [0.229, 0.224, 0.225])\n",
    "])\n",
    "\n",
    "dataset = datasets.ImageFolder('datasettt', transform=transform)\n",
    "\n",
    "# Kiểm tra nhãn\n",
    "print('Classes:', dataset.classes)\n"
   ]
  },
  {
   "cell_type": "code",
   "execution_count": 7,
   "id": "46f0a389",
   "metadata": {},
   "outputs": [],
   "source": [
    "train_dataset, test_dataset = torch.utils.data.random_split(\n",
    "    dataset, [len(dataset) - 50, 50]\n",
    ")\n",
    "\n",
    "train_loader = torch.utils.data.DataLoader(\n",
    "    train_dataset, batch_size=8, shuffle=True, num_workers=0\n",
    ")\n",
    "\n",
    "test_loader = torch.utils.data.DataLoader(\n",
    "    test_dataset, batch_size=8, shuffle=False, num_workers=0\n",
    ")\n"
   ]
  },
  {
   "cell_type": "code",
   "execution_count": 8,
   "id": "cbd0d3ee",
   "metadata": {},
   "outputs": [],
   "source": [
    "model = models.resnet18(pretrained=True)\n",
    "model.fc = torch.nn.Linear(model.fc.in_features, 3)  # 3 lớp: blocked, normal, boost\n",
    "\n",
    "device = torch.device('cuda' if torch.cuda.is_available() else 'cpu')\n",
    "model = model.to(device)\n"
   ]
  },
  {
   "cell_type": "code",
   "execution_count": 9,
   "id": "c5d196e3",
   "metadata": {},
   "outputs": [],
   "source": [
    "optimizer = optim.SGD(model.parameters(), lr=0.001, momentum=0.9)\n",
    "NUM_EPOCHS = 30\n",
    "BEST_MODEL_PATH = 'model_resnet18_3class.pth'\n",
    "best_accuracy = 0.0\n"
   ]
  },
  {
   "cell_type": "code",
   "execution_count": 10,
   "id": "11dc0fc2",
   "metadata": {},
   "outputs": [
    {
     "name": "stdout",
     "output_type": "stream",
     "text": [
      "Epoch 1: Accuracy = 1.0000\n",
      "Epoch 2: Accuracy = 1.0000\n",
      "Epoch 3: Accuracy = 1.0000\n",
      "Epoch 4: Accuracy = 1.0000\n",
      "Epoch 5: Accuracy = 1.0000\n",
      "Epoch 6: Accuracy = 0.9800\n",
      "Epoch 7: Accuracy = 1.0000\n",
      "Epoch 8: Accuracy = 1.0000\n",
      "Epoch 9: Accuracy = 1.0000\n",
      "Epoch 10: Accuracy = 1.0000\n",
      "Epoch 11: Accuracy = 1.0000\n",
      "Epoch 12: Accuracy = 1.0000\n",
      "Epoch 13: Accuracy = 1.0000\n",
      "Epoch 14: Accuracy = 1.0000\n",
      "Epoch 15: Accuracy = 1.0000\n",
      "Epoch 16: Accuracy = 1.0000\n",
      "Epoch 17: Accuracy = 1.0000\n",
      "Epoch 18: Accuracy = 1.0000\n",
      "Epoch 19: Accuracy = 1.0000\n",
      "Epoch 20: Accuracy = 1.0000\n",
      "Epoch 21: Accuracy = 1.0000\n",
      "Epoch 22: Accuracy = 1.0000\n",
      "Epoch 23: Accuracy = 1.0000\n",
      "Epoch 24: Accuracy = 1.0000\n",
      "Epoch 25: Accuracy = 1.0000\n",
      "Epoch 26: Accuracy = 1.0000\n",
      "Epoch 27: Accuracy = 1.0000\n",
      "Epoch 28: Accuracy = 1.0000\n",
      "Epoch 29: Accuracy = 1.0000\n",
      "Epoch 30: Accuracy = 1.0000\n"
     ]
    }
   ],
   "source": [
    "for epoch in range(NUM_EPOCHS):\n",
    "    model.train()\n",
    "    for images, labels in train_loader:\n",
    "        images = images.to(device)\n",
    "        labels = labels.to(device)\n",
    "\n",
    "        optimizer.zero_grad()\n",
    "        outputs = model(images)\n",
    "        loss = F.cross_entropy(outputs, labels)\n",
    "        loss.backward()\n",
    "        optimizer.step()\n",
    "\n",
    "    model.eval()\n",
    "    correct = 0\n",
    "    total = 0\n",
    "    with torch.no_grad():\n",
    "        for images, labels in test_loader:\n",
    "            images = images.to(device)\n",
    "            labels = labels.to(device)\n",
    "            outputs = model(images)\n",
    "            predicted = torch.argmax(outputs, dim=1)\n",
    "            correct += (predicted == labels).sum().item()\n",
    "            total += labels.size(0)\n",
    "\n",
    "    accuracy = correct / total\n",
    "    print(f'Epoch {epoch + 1}: Accuracy = {accuracy:.4f}')\n",
    "\n",
    "    if accuracy > best_accuracy:\n",
    "        best_accuracy = accuracy\n",
    "        torch.save(model.state_dict(), BEST_MODEL_PATH)\n"
   ]
  },
  {
   "cell_type": "code",
   "execution_count": null,
   "id": "0be150e9",
   "metadata": {},
   "outputs": [],
   "source": []
  },
  {
   "cell_type": "code",
   "execution_count": null,
   "id": "11420bcd",
   "metadata": {},
   "outputs": [],
   "source": []
  }
 ],
 "metadata": {
  "kernelspec": {
   "display_name": "Python 3",
   "language": "python",
   "name": "python3"
  },
  "language_info": {
   "codemirror_mode": {
    "name": "ipython",
    "version": 3
   },
   "file_extension": ".py",
   "mimetype": "text/x-python",
   "name": "python",
   "nbconvert_exporter": "python",
   "pygments_lexer": "ipython3",
   "version": "3.6.9"
  }
 },
 "nbformat": 4,
 "nbformat_minor": 5
}
