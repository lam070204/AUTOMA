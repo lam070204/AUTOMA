{
 "cells": [
  {
   "cell_type": "markdown",
   "metadata": {},
   "source": [
    "# Collision Avoidance - Live Demo\n",
    "In this notebook we'll use the model we trained to detect whether the robot is free or blocked to enable a collision avoidance behavior on the robot. It is assumed that the optimized neural network has already been created and loaded into the Jupyter Lab file browser.\n",
    "\n",
    "## TensorRT"
   ]
  },
  {
   "cell_type": "code",
   "execution_count": 1,
   "metadata": {},
   "outputs": [],
   "source": [
    "import cv2\n",
    "import torch\n",
    "from torchvision.models import resnet18\n",
    "from torch2trt import TRTModule\n",
    "from jetracer.nvidia_racecar import NvidiaRacecar\n",
    "from jetcam.csi_camera import CSICamera\n",
    "# from utils import preprocess\n",
    "import torch.nn.functional as F\n",
    "import numpy as np\n",
    "import time"
   ]
  },
  {
   "cell_type": "markdown",
   "metadata": {},
   "source": [
    "Load the optimized model by executing the cell below."
   ]
  },
  {
   "cell_type": "code",
   "execution_count": 2,
   "metadata": {},
   "outputs": [
    {
     "data": {
      "text/plain": [
       "<All keys matched successfully>"
      ]
     },
     "execution_count": 2,
     "metadata": {},
     "output_type": "execute_result"
    }
   ],
   "source": [
    "model_trt = TRTModule()\n",
    "model_trt.load_state_dict(torch.load('best_model_trt.pth'))"
   ]
  },
  {
   "cell_type": "markdown",
   "metadata": {},
   "source": [
    "Inizialize `car` and `camera` objects."
   ]
  },
  {
   "cell_type": "code",
   "execution_count": 3,
   "metadata": {},
   "outputs": [],
   "source": [
    "car = NvidiaRacecar()\n",
    "camera = CSICamera(width=224, height=224, capture_fps=65)"
   ]
  },
  {
   "cell_type": "code",
   "execution_count": 8,
   "metadata": {},
   "outputs": [
    {
     "ename": "NameError",
     "evalue": "name 'models' is not defined",
     "output_type": "error",
     "traceback": [
      "\u001b[0;31m---------------------------------------------------------------------------\u001b[0m",
      "\u001b[0;31mNameError\u001b[0m                                 Traceback (most recent call last)",
      "\u001b[0;32m<ipython-input-8-f9427aaf5d57>\u001b[0m in \u001b[0;36m<module>\u001b[0;34m\u001b[0m\n\u001b[1;32m      5\u001b[0m \u001b[0;31m# Chọn device\u001b[0m\u001b[0;34m\u001b[0m\u001b[0;34m\u001b[0m\u001b[0;34m\u001b[0m\u001b[0m\n\u001b[1;32m      6\u001b[0m \u001b[0mdevice\u001b[0m \u001b[0;34m=\u001b[0m \u001b[0mtorch\u001b[0m\u001b[0;34m.\u001b[0m\u001b[0mdevice\u001b[0m\u001b[0;34m(\u001b[0m\u001b[0;34m'cuda'\u001b[0m \u001b[0;32mif\u001b[0m \u001b[0mtorch\u001b[0m\u001b[0;34m.\u001b[0m\u001b[0mcuda\u001b[0m\u001b[0;34m.\u001b[0m\u001b[0mis_available\u001b[0m\u001b[0;34m(\u001b[0m\u001b[0;34m)\u001b[0m \u001b[0;32melse\u001b[0m \u001b[0;34m'cpu'\u001b[0m\u001b[0;34m)\u001b[0m\u001b[0;34m\u001b[0m\u001b[0;34m\u001b[0m\u001b[0m\n\u001b[0;32m----> 7\u001b[0;31m \u001b[0mmodel\u001b[0m \u001b[0;34m=\u001b[0m \u001b[0mmodels\u001b[0m\u001b[0;34m.\u001b[0m\u001b[0mresnet18\u001b[0m\u001b[0;34m(\u001b[0m\u001b[0mpretrained\u001b[0m\u001b[0;34m=\u001b[0m\u001b[0;32mFalse\u001b[0m\u001b[0;34m)\u001b[0m\u001b[0;34m\u001b[0m\u001b[0;34m\u001b[0m\u001b[0m\n\u001b[0m\u001b[1;32m      8\u001b[0m \u001b[0mmodel\u001b[0m\u001b[0;34m.\u001b[0m\u001b[0mfc\u001b[0m \u001b[0;34m=\u001b[0m \u001b[0mnn\u001b[0m\u001b[0;34m.\u001b[0m\u001b[0mLinear\u001b[0m\u001b[0;34m(\u001b[0m\u001b[0mmodel\u001b[0m\u001b[0;34m.\u001b[0m\u001b[0mfc\u001b[0m\u001b[0;34m.\u001b[0m\u001b[0min_features\u001b[0m\u001b[0;34m,\u001b[0m \u001b[0;36m3\u001b[0m\u001b[0;34m)\u001b[0m  \u001b[0;31m# 3 lớp\u001b[0m\u001b[0;34m\u001b[0m\u001b[0;34m\u001b[0m\u001b[0m\n\u001b[1;32m      9\u001b[0m \u001b[0;34m\u001b[0m\u001b[0m\n",
      "\u001b[0;31mNameError\u001b[0m: name 'models' is not defined"
     ]
    }
   ],
   "source": [
    "import torch\n",
    "import cv2\n",
    "from torchvision import transforms\n",
    "\n",
    "# Chọn device\n",
    "device = torch.device('cuda' if torch.cuda.is_available() else 'cpu')\n",
    "model = models.resnet18(pretrained=False)\n",
    "model.fc = nn.Linear(model.fc.in_features, 3)  # 3 lớp\n",
    "\n",
    "checkpoint = torch.load('best_model_resnet18_3class.pth', map_location=device)\n",
    "model.load_state_dict(checkpoint)   # hoặc checkpoint['model_state'] nếu bạn lưu dạng dict\n",
    "model = model.to(device).eval()\n",
    "\n",
    "# Transform giống khi train model\n",
    "transform_pipeline = transforms.Compose([\n",
    "    transforms.ToTensor(),\n",
    "    transforms.Normalize([0.485, 0.456, 0.406],\n",
    "                         [0.229, 0.224, 0.225])\n",
    "])\n",
    "\n",
    "def preprocess(image):\n",
    "    # Resize về 224x224 nếu cần\n",
    "    image_resized = cv2.resize(image, (224, 224))\n",
    "    # Đưa về tensor và thêm batch dimension\n",
    "    return transform_pipeline(image_resized).unsqueeze(0).to(device)\n"
   ]
  },
  {
   "cell_type": "code",
   "execution_count": 7,
   "metadata": {},
   "outputs": [
    {
     "ename": "NameError",
     "evalue": "name 'model_obstacle' is not defined",
     "output_type": "error",
     "traceback": [
      "\u001b[0;31m---------------------------------------------------------------------------\u001b[0m",
      "\u001b[0;31mNameError\u001b[0m                                 Traceback (most recent call last)",
      "\u001b[0;32m<ipython-input-7-d3eead2bc1aa>\u001b[0m in \u001b[0;36m<module>\u001b[0;34m\u001b[0m\n\u001b[1;32m     12\u001b[0m \u001b[0;34m\u001b[0m\u001b[0m\n\u001b[1;32m     13\u001b[0m     \u001b[0;32mwith\u001b[0m \u001b[0mtorch\u001b[0m\u001b[0;34m.\u001b[0m\u001b[0mno_grad\u001b[0m\u001b[0;34m(\u001b[0m\u001b[0;34m)\u001b[0m\u001b[0;34m:\u001b[0m\u001b[0;34m\u001b[0m\u001b[0;34m\u001b[0m\u001b[0m\n\u001b[0;32m---> 14\u001b[0;31m         \u001b[0moutput_obstacle\u001b[0m \u001b[0;34m=\u001b[0m \u001b[0mmodel_obstacle\u001b[0m\u001b[0;34m(\u001b[0m\u001b[0mimage_proc\u001b[0m\u001b[0;34m)\u001b[0m\u001b[0;34m\u001b[0m\u001b[0;34m\u001b[0m\u001b[0m\n\u001b[0m\u001b[1;32m     15\u001b[0m         \u001b[0mprobs\u001b[0m \u001b[0;34m=\u001b[0m \u001b[0mtorch\u001b[0m\u001b[0;34m.\u001b[0m\u001b[0msoftmax\u001b[0m\u001b[0;34m(\u001b[0m\u001b[0moutput_obstacle\u001b[0m\u001b[0;34m,\u001b[0m \u001b[0mdim\u001b[0m\u001b[0;34m=\u001b[0m\u001b[0;36m1\u001b[0m\u001b[0;34m)\u001b[0m\u001b[0;34m\u001b[0m\u001b[0;34m\u001b[0m\u001b[0m\n\u001b[1;32m     16\u001b[0m         \u001b[0midx\u001b[0m \u001b[0;34m=\u001b[0m \u001b[0mtorch\u001b[0m\u001b[0;34m.\u001b[0m\u001b[0margmax\u001b[0m\u001b[0;34m(\u001b[0m\u001b[0mprobs\u001b[0m\u001b[0;34m,\u001b[0m \u001b[0mdim\u001b[0m\u001b[0;34m=\u001b[0m\u001b[0;36m1\u001b[0m\u001b[0;34m)\u001b[0m\u001b[0;34m.\u001b[0m\u001b[0mitem\u001b[0m\u001b[0;34m(\u001b[0m\u001b[0;34m)\u001b[0m\u001b[0;34m\u001b[0m\u001b[0;34m\u001b[0m\u001b[0m\n",
      "\u001b[0;31mNameError\u001b[0m: name 'model_obstacle' is not defined"
     ]
    }
   ],
   "source": [
    "import torch.nn.functional as F\n",
    "\n",
    "THROTTLE_NORMAL = 0.2\n",
    "THROTTLE_BOOST = 0.35\n",
    "\n",
    "while True:\n",
    "    image = camera.value  # nếu dùng CSICamera, hoặc camera.read() nếu USB\n",
    "    if image is None:\n",
    "        continue\n",
    "\n",
    "    image_proc = preprocess(image).half()\n",
    "\n",
    "    with torch.no_grad():\n",
    "        output_obstacle = model_obstacle(image_proc)\n",
    "        probs = torch.softmax(output_obstacle, dim=1)\n",
    "        idx = torch.argmax(probs, dim=1).item()\n",
    "\n",
    "    print(f\"Class: {classes[idx]} - Conf: {probs[0, idx].item()*100:.1f}%\")\n",
    "\n"
   ]
  },
  {
   "cell_type": "code",
   "execution_count": null,
   "metadata": {},
   "outputs": [],
   "source": [
    "import torch.nn.functional as F\n",
    "\n",
    "# Các tham số\n",
    "STEERING_GAIN = 0.9\n",
    "STEERING_BIAS = 0\n",
    "THROTTLE_NORMAL = 0.2\n",
    "THROTTLE_BOOST = 0.35\n",
    "\n",
    "car.throttle = 0.0\n",
    "car.steering = 0.0\n",
    "\n",
    "while True:\n",
    "    image = camera.read()\n",
    "    image_proc = preprocess(image).half()\n",
    "\n",
    "    # Dự đoán vật cản (3 lớp: blocked, normal, boost)\n",
    "    output_obstacle = model_obstacle(image_proc)\n",
    "    probs = F.softmax(output_obstacle, dim=1).detach().cpu().numpy().flatten()\n",
    "    predicted_class = int(np.argmax(probs))\n",
    "\n",
    "    # Dự đoán điều khiển lái\n",
    "    output_lane = model_steering(image_proc).detach().cpu().numpy().flatten()\n",
    "    steering = float(output_lane[0])\n",
    "    car.steering = steering * STEERING_GAIN + STEERING_BIAS\n",
    "\n",
    "    # Điều chỉnh tốc độ theo nhãn\n",
    "    if predicted_class == 0:  # blocked\n",
    "        car.throttle = 0.0\n",
    "    elif predicted_class == 1:  # normal\n",
    "        car.throttle = THROTTLE_NORMAL\n",
    "    elif predicted_class == 2:  # boost\n",
    "        car.throttle = THROTTLE_BOOST\n",
    "\n",
    "    time.sleep(0.01)\n"
   ]
  },
  {
   "cell_type": "markdown",
   "metadata": {},
   "source": [
    "## Live Demo"
   ]
  },
  {
   "cell_type": "markdown",
   "metadata": {},
   "source": [
    "Due to the JetRacer's limited steering angle and obstacle visibility during the steering process, a specific time interval is required for successful obstacle avoidance. In the suggested demo, the robot will steer for 2 seconds upon obstacle detection. Nevertheless, this value should be dynamically modified to align with specific operational needs."
   ]
  },
  {
   "cell_type": "code",
   "execution_count": null,
   "metadata": {},
   "outputs": [],
   "source": [
    "prob_blocked = 0\n",
    "threshold = 0.5\n",
    "\n",
    "turning = False  # Flag to indicate if the car is turning\n",
    "turn_time = time.time()  # Start a timer\n",
    "\n",
    "while True:\n",
    "    image = camera.read()\n",
    "#     image_proc = preprocess(image).half()\n",
    "    output = model_trt(image)\n",
    "    y = F.softmax(output, dim=1)\n",
    "    prob_blocked = float(y.flatten()[0])\n",
    "\n",
    "    if prob_blocked < threshold :\n",
    "        car.steering = 0.0\n",
    "    else:\n",
    "        if not turning:\n",
    "            car.steering = -0.8  # Choose a steering angle\n",
    "            turning = True  # Set the turning flag\n",
    "            turn_time = time.time()  # Start a timer\n",
    "\n",
    "        if time.time() - turn_time >= 2 and prob_blocked < threshold:\n",
    "            car.steering = 0.0  # Straighten the wheels\n",
    "            turning = False  # Clear the turning flag\n",
    "\n",
    "    car.throttle = 0.18  # Choose car.throttle"
   ]
  }
 ],
 "metadata": {
  "kernelspec": {
   "display_name": "Python 3",
   "language": "python",
   "name": "python3"
  },
  "language_info": {
   "codemirror_mode": {
    "name": "ipython",
    "version": 3
   },
   "file_extension": ".py",
   "mimetype": "text/x-python",
   "name": "python",
   "nbconvert_exporter": "python",
   "pygments_lexer": "ipython3",
   "version": "3.6.9"
  }
 },
 "nbformat": 4,
 "nbformat_minor": 4
}
