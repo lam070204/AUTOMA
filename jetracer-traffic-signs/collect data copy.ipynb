{
 "cells": [
  {
   "cell_type": "code",
   "execution_count": 1,
   "id": "e5983c62",
   "metadata": {},
   "outputs": [],
   "source": [
    "from jetcam.csi_camera import CSICamera\n",
    "# from jetcam.usb_camera import USBCamera  # nếu dùng USB Camera\n",
    "\n",
    "camera = CSICamera(width=224, height=224)\n",
    "# camera = USBCamera(width=224, height=224)\n",
    "\n",
    "camera.running = True\n"
   ]
  },
  {
   "cell_type": "code",
   "execution_count": 2,
   "id": "75c89ff6",
   "metadata": {},
   "outputs": [],
   "source": [
    "import os\n",
    "import cv2\n",
    "from torch.utils.data import Dataset\n",
    "\n",
    "class ClassificationDataset(Dataset):\n",
    "    def __init__(self, root_dir, categories, transform=None):\n",
    "        self.root_dir = root_dir\n",
    "        self.categories = categories\n",
    "        self.transform = transform\n",
    "        self.entries = []\n",
    "\n",
    "        for label_index, label in enumerate(categories):\n",
    "            class_dir = os.path.join(root_dir, label)\n",
    "            os.makedirs(class_dir, exist_ok=True)\n",
    "            for file_name in os.listdir(class_dir):\n",
    "                if file_name.endswith(\".jpg\"):\n",
    "                    self.entries.append((os.path.join(class_dir, file_name), label_index))\n",
    "\n",
    "    def __len__(self):\n",
    "        return len(self.entries)\n",
    "\n",
    "    def __getitem__(self, idx):\n",
    "        path, label = self.entries[idx]\n",
    "        image = cv2.imread(path)\n",
    "        image = cv2.cvtColor(image, cv2.COLOR_BGR2RGB)\n",
    "\n",
    "        if self.transform:\n",
    "            image = self.transform(image)\n",
    "\n",
    "        return image, label\n",
    "\n",
    "    def save_entry(self, category, image):\n",
    "        count = self.get_count(category)\n",
    "        filename = f\"{category}_{count:04d}.jpg\"\n",
    "        path = os.path.join(self.root_dir, category, filename)\n",
    "        cv2.imwrite(path, cv2.cvtColor(image, cv2.COLOR_RGB2BGR))\n",
    "\n",
    "    def get_count(self, category):\n",
    "        folder = os.path.join(self.root_dir, category)\n",
    "        return len([f for f in os.listdir(folder) if f.endswith(\".jpg\")])\n"
   ]
  },
  {
   "cell_type": "code",
   "execution_count": 3,
   "id": "ff7bc593",
   "metadata": {},
   "outputs": [],
   "source": [
    "import torchvision.transforms as transforms\n",
    "\n",
    "TASK = 'traffic_signs'\n",
    "CATEGORIES = ['stop', 'left', 'right', 'forward']\n",
    "\n",
    "TRANSFORMS = transforms.Compose([\n",
    "    transforms.Resize((224, 224)),\n",
    "    transforms.ToTensor(),\n",
    "    transforms.Normalize([0.485, 0.456, 0.406], [0.229, 0.224, 0.225])\n",
    "])\n",
    "\n",
    "dataset = ClassificationDataset(TASK, CATEGORIES, transform=TRANSFORMS)\n"
   ]
  },
  {
   "cell_type": "code",
   "execution_count": 4,
   "id": "d2098b40",
   "metadata": {},
   "outputs": [],
   "source": [
    "import ipywidgets\n",
    "import traitlets\n",
    "from IPython.display import display\n",
    "from jetcam.utils import bgr8_to_jpeg\n",
    "from jupyter_clickable_image_widget import ClickableImageWidget\n",
    "\n",
    "# Giao diện camera\n",
    "camera_widget = ClickableImageWidget(width=camera.width, height=camera.height)\n",
    "snapshot_widget = ipywidgets.Image(width=camera.width, height=camera.height)\n",
    "\n",
    "traitlets.dlink((camera, 'value'), (camera_widget, 'value'), transform=bgr8_to_jpeg)\n",
    "\n",
    "# Giao diện điều khiển\n",
    "category_widget = ipywidgets.Dropdown(options=CATEGORIES, description='label')\n",
    "count_widget = ipywidgets.IntText(description='count')\n",
    "\n",
    "# Update số lượng ảnh trong nhãn hiện tại\n",
    "def update_counts(change):\n",
    "    count_widget.value = dataset.get_count(change['new'])\n",
    "\n",
    "category_widget.observe(update_counts, names='value')\n",
    "count_widget.value = dataset.get_count(category_widget.value)\n"
   ]
  },
  {
   "cell_type": "code",
   "execution_count": 5,
   "id": "defb214f",
   "metadata": {},
   "outputs": [],
   "source": [
    "def save_snapshot(_, content, msg):\n",
    "    if content['event'] == 'click':\n",
    "        dataset.save_entry(category_widget.value, camera.value)\n",
    "\n",
    "        snapshot = camera.value.copy()\n",
    "        snapshot_widget.value = bgr8_to_jpeg(snapshot)\n",
    "        count_widget.value = dataset.get_count(category_widget.value)\n",
    "\n",
    "camera_widget.on_msg(save_snapshot)\n"
   ]
  },
  {
   "cell_type": "code",
   "execution_count": 6,
   "id": "2b159b49",
   "metadata": {},
   "outputs": [
    {
     "data": {
      "application/vnd.jupyter.widget-view+json": {
       "model_id": "5436456dcf3742a5820afeba1a8ab101",
       "version_major": 2,
       "version_minor": 0
      },
      "text/plain": [
       "VBox(children=(HBox(children=(ClickableImageWidget(value=b'\\xff\\xd8\\xff\\xe0\\x00\\x10JFIF\\x00\\x01\\x01\\x00\\x00\\x0…"
      ]
     },
     "metadata": {},
     "output_type": "display_data"
    }
   ],
   "source": [
    "data_collection_widget = ipywidgets.VBox([\n",
    "    ipywidgets.HBox([camera_widget, snapshot_widget]),\n",
    "    category_widget,\n",
    "    count_widget\n",
    "])\n",
    "\n",
    "display(data_collection_widget)\n"
   ]
  },
  {
   "cell_type": "code",
   "execution_count": null,
   "id": "362e9363",
   "metadata": {},
   "outputs": [],
   "source": []
  }
 ],
 "metadata": {
  "kernelspec": {
   "display_name": "Python 3",
   "language": "python",
   "name": "python3"
  },
  "language_info": {
   "codemirror_mode": {
    "name": "ipython",
    "version": 3
   },
   "file_extension": ".py",
   "mimetype": "text/x-python",
   "name": "python",
   "nbconvert_exporter": "python",
   "pygments_lexer": "ipython3",
   "version": "3.6.9"
  }
 },
 "nbformat": 4,
 "nbformat_minor": 5
}
