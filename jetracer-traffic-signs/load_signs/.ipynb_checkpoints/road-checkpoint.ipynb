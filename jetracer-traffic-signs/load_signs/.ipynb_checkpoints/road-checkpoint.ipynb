{
 "cells": [
  {
   "cell_type": "code",
   "execution_count": null,
   "metadata": {},
   "outputs": [],
   "source": [
    "import torch\n",
    "from torch2trt import TRTModule\n",
    "\n",
    "model_trt = TRTModule()\n",
    "model_trt.load_state_dict(torch.load('sign_model_trt.pth'))"
   ]
  },
  {
   "cell_type": "code",
   "execution_count": null,
   "metadata": {},
   "outputs": [],
   "source": [
    "import cv2\n",
    "from torchvision import transforms\n",
    "import numpy as np\n",
    "\n",
    "# Danh sách nhãn\n",
    "CATEGORIES = ['5km', '15km', '30km', '40km', '50km']\n",
    "\n",
    "# Hàm tiền xử lý ảnh\n",
    "transform = transforms.Compose([\n",
    "    transforms.ToPILImage(),\n",
    "    transforms.Resize((32, 32)),\n",
    "    transforms.ToTensor()\n",
    "])\n",
    "\n",
    "# Load ảnh test\n",
    "img_path = \"TEST/2/002_0015.png\"  # thay bằng ảnh của bạn\n",
    "img = cv2.imread(img_path)\n",
    "img_rgb = cv2.cvtColor(img, cv2.COLOR_BGR2RGB)\n",
    "input_tensor = transform(img_rgb).unsqueeze(0).cuda()\n"
   ]
  },
  {
   "cell_type": "code",
   "execution_count": null,
   "metadata": {},
   "outputs": [],
   "source": [
    "model_trt.eval()\n",
    "with torch.no_grad():\n",
    "    out_trt = model_trt(input_tensor)\n",
    "    pred_trt = torch.argmax(out_trt, 1).item()\n",
    "print(f\"TensorRT → {CATEGORIES[pred_trt]}\")\n",
    "label = CATEGORIES[pred_trt]\n",
    "\n",
    "# Vẽ kết quả lên ảnh gốc\n",
    "cv2.putText(img, f'Predicted: {label}', (10, 30),\n",
    "            cv2.FONT_HERSHEY_SIMPLEX, 1, (0, 255, 0), 2)\n",
    "\n",
    "cv2.imshow(\"Prediction\", img)\n",
    "cv2.waitKey(0)\n",
    "cv2.destroyAllWindows()\n"
   ]
  },
  {
   "cell_type": "code",
   "execution_count": null,
   "metadata": {},
   "outputs": [],
   "source": [
    "import time\n",
    "\n",
    "# Đo thời gian chạy 100 lần\n",
    "start = time.time()\n",
    "with torch.no_grad():\n",
    "    for _ in range(100):\n",
    "        _ = model_trt(input_tensor)\n",
    "end = time.time()\n",
    "\n",
    "avg_time_ms = (end - start) / 100 * 1000\n",
    "print(f\"⚡ TensorRT inference trung bình: {avg_time_ms:.2f} ms\")\n"
   ]
  },
  {
   "cell_type": "code",
   "execution_count": null,
   "metadata": {},
   "outputs": [],
   "source": []
  },
  {
   "cell_type": "code",
   "execution_count": null,
   "metadata": {},
   "outputs": [],
   "source": []
  }
 ],
 "metadata": {
  "kernelspec": {
   "display_name": "Python 3",
   "language": "python",
   "name": "python3"
  },
  "language_info": {
   "codemirror_mode": {
    "name": "ipython",
    "version": 3
   },
   "file_extension": ".py",
   "mimetype": "text/x-python",
   "name": "python",
   "nbconvert_exporter": "python",
   "pygments_lexer": "ipython3",
   "version": "3.6.9"
  }
 },
 "nbformat": 4,
 "nbformat_minor": 4
}
