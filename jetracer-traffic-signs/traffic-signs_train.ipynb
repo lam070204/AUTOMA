{
 "cells": [
  {
   "cell_type": "code",
   "execution_count": 1,
   "id": "6fb1e786",
   "metadata": {},
   "outputs": [],
   "source": [
    "import os\n",
    "import cv2\n",
    "import numpy as np\n",
    "import torch\n",
    "import torch.nn as nn\n",
    "import torch.nn.functional as F\n",
    "import torch.optim as optim\n",
    "from torch.utils.data import Dataset, DataLoader\n",
    "from torchvision import transforms\n",
    "import matplotlib.pyplot as plt\n"
   ]
  },
  {
   "cell_type": "code",
   "execution_count": null,
   "id": "763b4318",
   "metadata": {},
   "outputs": [],
   "source": [
    "# Tham số\n",
    "dataset_path = \"dataset\"\n",
    "image_size = (32, 32)\n",
    "test_ratio = 0.2\n",
    "val_ratio = 0.2\n",
    "batch_size = 64\n",
    "epochs = 20\n",
    "\n",
    "\n",
    "def load_data():\n",
    "    images = []\n",
    "    labels = []\n",
    "    folders = os.listdir(dataset_path)\n",
    "    folders.sort()\n",
    "    for label in folders:\n",
    "        folder_path = os.path.join(dataset_path, label)\n",
    "        for img_name in os.listdir(folder_path):\n",
    "            img_path = os.path.join(folder_path, img_name)\n",
    "            img = cv2.imread(img_path)\n",
    "            if img is None:\n",
    "                continue\n",
    "            img = cv2.resize(img, image_size)\n",
    "            images.append(img)\n",
    "            labels.append(int(label))  # hoặc int(label.split('_')[0]) nếu dùng tên như \"0_stop\"\n",
    "    return np.array(images), np.array(labels), len(folders)\n",
    "\n",
    "def split_dataset(images, labels, test_ratio=0.2, val_ratio=0.2):\n",
    "    indices = np.arange(len(images))\n",
    "    np.random.shuffle(indices)\n",
    "\n",
    "    total = len(images)\n",
    "    test_size = int(total * test_ratio)\n",
    "    val_size = int(total * val_ratio)\n",
    "\n",
    "    test_idx = indices[:test_size]\n",
    "    val_idx = indices[test_size:test_size + val_size]\n",
    "    train_idx = indices[test_size + val_size:]\n",
    "\n",
    "    X_train, y_train = images[train_idx], labels[train_idx]\n",
    "    X_val, y_val = images[val_idx], labels[val_idx]\n",
    "    X_test, y_test = images[test_idx], labels[test_idx]\n",
    "\n",
    "    return X_train, y_train, X_val, y_val, X_test, y_test\n",
    "\n"
   ]
  },
  {
   "cell_type": "code",
   "execution_count": null,
   "id": "39a2706b",
   "metadata": {},
   "outputs": [],
   "source": [
    "images, labels, num_classes = load_data()\n",
    "X_train, y_train, X_val, y_val, X_test, y_test = split_dataset(images, labels)\n",
    "\n",
    "print(\"Số lớp:\", num_classes)\n",
    "print(\"Tập train:\", len(X_train))\n",
    "print(\"Tập val:\", len(X_val))\n",
    "print(\"Tập test:\", len(X_test))\n"
   ]
  },
  {
   "cell_type": "code",
   "execution_count": null,
   "id": "004f47b8",
   "metadata": {},
   "outputs": [],
   "source": [
    "class SignDataset(Dataset):\n",
    "    def __init__(self, X, y, transform=None):\n",
    "        self.X = X\n",
    "        self.y = y\n",
    "        self.transform = transform\n",
    "\n",
    "    def __getitem__(self, idx):\n",
    "        img = self.X[idx]\n",
    "        label = self.y[idx]\n",
    "        if self.transform:\n",
    "            img = self.transform(img)\n",
    "        return img, label\n",
    "\n",
    "    def __len__(self):\n",
    "        return len(self.X)\n",
    "\n",
    "transform = transforms.Compose([\n",
    "    transforms.ToPILImage(),\n",
    "    transforms.RandomRotation(10),\n",
    "    transforms.RandomHorizontalFlip(),\n",
    "    transforms.ToTensor()\n",
    "])\n"
   ]
  },
  {
   "cell_type": "code",
   "execution_count": null,
   "id": "c31ef49d",
   "metadata": {},
   "outputs": [],
   "source": [
    "train_ds = SignDataset(X_train, y_train, transform)\n",
    "val_ds = SignDataset(X_val, y_val, transform)\n",
    "test_ds = SignDataset(X_test, y_test, transform)\n",
    "\n",
    "train_loader = DataLoader(train_ds, batch_size=batch_size, shuffle=True)\n",
    "val_loader = DataLoader(val_ds, batch_size=batch_size)\n",
    "test_loader = DataLoader(test_ds, batch_size=batch_size)\n"
   ]
  },
  {
   "cell_type": "code",
   "execution_count": null,
   "id": "106814f1",
   "metadata": {},
   "outputs": [],
   "source": [
    "class Net(nn.Module):\n",
    "    def __init__(self, num_classes):\n",
    "        super(Net, self).__init__()\n",
    "        self.conv1 = nn.Conv2d(3, 60, 5)\n",
    "        self.pool = nn.MaxPool2d(2, 2)\n",
    "        self.conv2 = nn.Conv2d(60, 30, 5)\n",
    "        self.fc1 = nn.Linear(30 * 5 * 5, 500)\n",
    "        self.fc2 = nn.Linear(500, num_classes)\n",
    "\n",
    "    def forward(self, x):\n",
    "        x = self.pool(F.relu(self.conv1(x)))\n",
    "        x = self.pool(F.relu(self.conv2(x)))\n",
    "        x = x.view(-1, 30 * 5 * 5)\n",
    "        x = F.relu(self.fc1(x))\n",
    "        x = self.fc2(x)\n",
    "        return x\n"
   ]
  },
  {
   "cell_type": "code",
   "execution_count": null,
   "id": "a782f47a",
   "metadata": {},
   "outputs": [],
   "source": [
    "device = torch.device(\"cuda\" if torch.cuda.is_available() else \"cpu\")\n",
    "model = Net(num_classes).to(device)\n",
    "criterion = nn.CrossEntropyLoss()\n",
    "optimizer = optim.Adam(model.parameters(), lr=0.001)\n"
   ]
  },
  {
   "cell_type": "code",
   "execution_count": null,
   "id": "136f663f",
   "metadata": {},
   "outputs": [],
   "source": [
    "for epoch in range(epochs):\n",
    "    model.train()\n",
    "    running_loss = 0.0\n",
    "    correct = 0\n",
    "\n",
    "    for imgs, labels in train_loader:\n",
    "        imgs, labels = imgs.to(device), labels.to(device)\n",
    "        optimizer.zero_grad()\n",
    "\n",
    "        outputs = model(imgs)\n",
    "        loss = criterion(outputs, labels)\n",
    "        loss.backward()\n",
    "        optimizer.step()\n",
    "\n",
    "        running_loss += loss.item()\n",
    "        correct += (outputs.argmax(1) == labels).sum().item()\n",
    "\n",
    "    accuracy = correct / len(train_ds)\n",
    "    print(f\"Epoch {epoch+1}/{epochs}, Loss: {running_loss:.4f}, Accuracy: {accuracy:.4f}\")\n"
   ]
  },
  {
   "cell_type": "code",
   "execution_count": null,
   "id": "29d52b41",
   "metadata": {},
   "outputs": [],
   "source": [
    "torch.save(model.state_dict(), \"sign_model.pt\")\n",
    "print(\"✅ Model đã được lưu thành công.\")\n"
   ]
  },
  {
   "cell_type": "code",
   "execution_count": null,
   "id": "c0fa0ad8",
   "metadata": {},
   "outputs": [],
   "source": [
    "model.eval()\n",
    "correct = 0\n",
    "\n",
    "with torch.no_grad():\n",
    "    for imgs, labels in val_loader:\n",
    "        imgs, labels = imgs.to(device), labels.to(device)\n",
    "        outputs = model(imgs)\n",
    "        predicted = outputs.argmax(1)\n",
    "        correct += (predicted == labels).sum().item()\n",
    "\n",
    "val_accuracy = correct / len(val_ds)\n",
    "print(f\"Validation Accuracy: {val_accuracy:.4f}\")\n"
   ]
  },
  {
   "cell_type": "code",
   "execution_count": null,
   "id": "d9a2c274",
   "metadata": {},
   "outputs": [],
   "source": [
    "import torch\n",
    "torch.cuda.empty_cache()\n",
    "torch.cuda.ipc_collect()\n"
   ]
  }
 ],
 "metadata": {
  "kernelspec": {
   "display_name": "Python 3",
   "language": "python",
   "name": "python3"
  },
  "language_info": {
   "codemirror_mode": {
    "name": "ipython",
    "version": 3
   },
   "file_extension": ".py",
   "mimetype": "text/x-python",
   "name": "python",
   "nbconvert_exporter": "python",
   "pygments_lexer": "ipython3",
   "version": "3.6.9"
  }
 },
 "nbformat": 4,
 "nbformat_minor": 5
}
