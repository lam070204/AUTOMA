{
 "cells": [
  {
   "cell_type": "code",
   "execution_count": 1,
   "id": "8a4497c7",
   "metadata": {},
   "outputs": [],
   "source": [
    "import os\n",
    "import torch.nn as nn\n",
    "from torchvision import datasets, transforms, models\n",
    "from torch.utils.data import DataLoader\n",
    "from PIL import Image\n",
    "import cv2\n",
    "import torch\n",
    "import torchvision\n",
    "device = torch.device('cuda')"
   ]
  },
  {
   "cell_type": "code",
   "execution_count": 2,
   "id": "1acdd9fe",
   "metadata": {},
   "outputs": [],
   "source": [
    "\n",
    "\n",
    "# Thông số huấn luyện\n",
    "num_classes = 2  # số nhãn: ví dụ 'none', 'min_30'\n",
    "batch_size = 16\n",
    "num_epochs = 10\n",
    "learning_rate = 1e-4"
   ]
  },
  {
   "cell_type": "code",
   "execution_count": null,
   "id": "50e5bb6a",
   "metadata": {},
   "outputs": [],
   "source": [
    "# Transform chuẩn ResNet\n",
    "transform = transforms.Compose([\n",
    "    transforms.Resize((224, 224)),\n",
    "    transforms.ToTensor(),\n",
    "    transforms.Normalize(\n",
    "        mean=[0.485, 0.456, 0.406],\n",
    "        std=[0.229, 0.224, 0.225]\n",
    "    )\n",
    "])\n",
    "\n",
    "# Tải dữ liệu train & val\n",
    "train_dataset = datasets.ImageFolder(\"dataset/train\", transform=transform)\n",
    "val_dataset   = datasets.ImageFolder(\"dataset/val\", transform=transform)\n",
    "\n",
    "train_loader = DataLoader(train_dataset, batch_size=batch_size, shuffle=True)\n",
    "val_loader   = DataLoader(val_dataset, batch_size=batch_size, shuffle=False)\n",
    "\n",
    "# Lấy tên lớp\n",
    "categories = train_dataset.classes\n",
    "print(\"Các nhãn:\", categories)\n"
   ]
  },
  {
   "cell_type": "code",
   "execution_count": null,
   "id": "20eb31b9",
   "metadata": {},
   "outputs": [],
   "source": [
    "# Load mô hình ResNet18\n",
    "model = models.resnet18(pretrained=True)\n",
    "\n",
    "# Thay lớp cuối (fc) phù hợp với số nhãn\n",
    "model.fc = nn.Linear(model.fc.in_features, num_classes)\n",
    "\n",
    "model = model.to(device)\n",
    "\n",
    "# Loss và optimizer\n",
    "criterion = nn.CrossEntropyLoss()\n",
    "optimizer = torch.optim.Adam(model.parameters(), lr=learning_rate)\n"
   ]
  },
  {
   "cell_type": "code",
   "execution_count": null,
   "id": "8631bc6e",
   "metadata": {},
   "outputs": [],
   "source": [
    "for epoch in range(num_epochs):\n",
    "    model.train()\n",
    "    running_loss = 0.0\n",
    "\n",
    "    for images, labels in train_loader:\n",
    "        images, labels = images.to(device), labels.to(device)\n",
    "\n",
    "        optimizer.zero_grad()\n",
    "        outputs = model(images)\n",
    "        loss = criterion(outputs, labels)\n",
    "        loss.backward()\n",
    "        optimizer.step()\n",
    "\n",
    "        running_loss += loss.item()\n",
    "\n",
    "    avg_loss = running_loss / len(train_loader)\n",
    "\n",
    "    # Đánh giá\n",
    "    model.eval()\n",
    "    correct = 0\n",
    "    total = 0\n",
    "    with torch.no_grad():\n",
    "        for images, labels in val_loader:\n",
    "            images, labels = images.to(device), labels.to(device)\n",
    "            outputs = model(images)\n",
    "            _, predicted = torch.max(outputs, 1)\n",
    "            total += labels.size(0)\n",
    "            correct += (predicted == labels).sum().item()\n",
    "\n",
    "    acc = 100 * correct / total\n",
    "    print(f\"[Epoch {epoch+1}] Loss: {avg_loss:.4f} | Val Acc: {acc:.2f}%\")\n"
   ]
  },
  {
   "cell_type": "code",
   "execution_count": null,
   "id": "74636445",
   "metadata": {},
   "outputs": [],
   "source": [
    "torch.save(model.state_dict(), \"traffic_sign_model.pth\")\n",
    "print(\"✅ Đã lưu model vào: traffic_sign_model.pth\")\n"
   ]
  },
  {
   "cell_type": "markdown",
   "id": "77cb9ca8",
   "metadata": {},
   "source": [
    "TEST LẠI BẰNG ẢNH"
   ]
  },
  {
   "cell_type": "code",
   "execution_count": null,
   "id": "abf1ec18",
   "metadata": {},
   "outputs": [],
   "source": [
    "def predict(image_path):\n",
    "    model.eval()\n",
    "    image = Image.open(image_path).convert(\"RGB\")\n",
    "    image = transform(image).unsqueeze(0).to(device)\n",
    "\n",
    "    with torch.no_grad():\n",
    "        output = model(image)\n",
    "        pred = torch.argmax(output, 1).item()\n",
    "        return categories[pred]\n"
   ]
  },
  {
   "cell_type": "markdown",
   "id": "f3a13245",
   "metadata": {},
   "source": [
    "img_path = \"test_images/min30.jpg\"  # Đường dẫn ảnh test\n",
    "label = predict(img_path)\n",
    "print(\"Kết quả dự đoán:\", label)\n"
   ]
  }
 ],
 "metadata": {
  "kernelspec": {
   "display_name": "Python 3",
   "language": "python",
   "name": "python3"
  },
  "language_info": {
   "codemirror_mode": {
    "name": "ipython",
    "version": 3
   },
   "file_extension": ".py",
   "mimetype": "text/x-python",
   "name": "python",
   "nbconvert_exporter": "python",
   "pygments_lexer": "ipython3",
   "version": "3.6.9"
  }
 },
 "nbformat": 4,
 "nbformat_minor": 5
}
